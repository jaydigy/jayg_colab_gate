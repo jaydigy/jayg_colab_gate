{
  "nbformat": 4,
  "nbformat_minor": 0,
  "metadata": {
    "colab": {
      "provenance": [],
      "authorship_tag": "ABX9TyNl8UeD6L6qupLgFZ1DwUYj",
      "include_colab_link": true
    },
    "kernelspec": {
      "name": "python3",
      "display_name": "Python 3"
    },
    "language_info": {
      "name": "python"
    }
  },
  "cells": [
    {
      "cell_type": "markdown",
      "metadata": {
        "id": "view-in-github",
        "colab_type": "text"
      },
      "source": [
        "<a href=\"https://colab.research.google.com/github/jaydigy/jayg_colab_gate/blob/main/ak_makemore_pt2_by_jayg.ipynb\" target=\"_parent\"><img src=\"https://colab.research.google.com/assets/colab-badge.svg\" alt=\"Open In Colab\"/></a>"
      ]
    },
    {
      "cell_type": "code",
      "execution_count": 22,
      "metadata": {
        "id": "9PsYnrKkeXfW"
      },
      "outputs": [],
      "source": [
        "import torch\n",
        "import torch.nn.functional as F\n",
        "import matplotlib.pyplot as plt\n",
        "%matplotlib inline"
      ]
    },
    {
      "cell_type": "code",
      "source": [
        "!wget \"https://raw.githubusercontent.com/jaydigy/jayg_colab_gate/main/names.txt\""
      ],
      "metadata": {
        "colab": {
          "base_uri": "https://localhost:8080/"
        },
        "id": "Szddk2g3g7Pm",
        "outputId": "a51ec093-83fd-43b1-ca9b-cd9284733c1b"
      },
      "execution_count": 23,
      "outputs": [
        {
          "output_type": "stream",
          "name": "stdout",
          "text": [
            "--2023-05-11 12:25:45--  https://raw.githubusercontent.com/jaydigy/jayg_colab_gate/main/names.txt\n",
            "Resolving raw.githubusercontent.com (raw.githubusercontent.com)... 185.199.108.133, 185.199.109.133, 185.199.110.133, ...\n",
            "Connecting to raw.githubusercontent.com (raw.githubusercontent.com)|185.199.108.133|:443... connected.\n",
            "HTTP request sent, awaiting response... 200 OK\n",
            "Length: 228145 (223K) [text/plain]\n",
            "Saving to: ‘names.txt.1’\n",
            "\n",
            "\rnames.txt.1           0%[                    ]       0  --.-KB/s               \rnames.txt.1         100%[===================>] 222.80K  --.-KB/s    in 0.02s   \n",
            "\n",
            "2023-05-11 12:25:45 (10.6 MB/s) - ‘names.txt.1’ saved [228145/228145]\n",
            "\n"
          ]
        }
      ]
    },
    {
      "cell_type": "code",
      "source": [
        "#read all the words\n",
        "words = open('names.txt', 'r').read().splitlines()\n",
        "words[:8]"
      ],
      "metadata": {
        "colab": {
          "base_uri": "https://localhost:8080/"
        },
        "id": "q67pFwXNhEZ1",
        "outputId": "ece0a165-ed58-4a47-e1db-7a515f6451e5"
      },
      "execution_count": 24,
      "outputs": [
        {
          "output_type": "execute_result",
          "data": {
            "text/plain": [
              "['emma', 'olivia', 'ava', 'isabella', 'sophia', 'charlotte', 'mia', 'amelia']"
            ]
          },
          "metadata": {},
          "execution_count": 24
        }
      ]
    },
    {
      "cell_type": "code",
      "source": [
        "len(words)"
      ],
      "metadata": {
        "colab": {
          "base_uri": "https://localhost:8080/"
        },
        "id": "jDS5dQ-ahnQH",
        "outputId": "c8c7bf77-f3a2-47e5-a8a3-47d101460f40"
      },
      "execution_count": 25,
      "outputs": [
        {
          "output_type": "execute_result",
          "data": {
            "text/plain": [
              "32033"
            ]
          },
          "metadata": {},
          "execution_count": 25
        }
      ]
    },
    {
      "cell_type": "code",
      "source": [
        "# build the vocabliry of characters and mapping to/from integers\n",
        "chars = sorted(list(set(''.join(words))))\n",
        "stoi = {s:i+1 for i, s in enumerate(chars)}\n",
        "stoi['.'] = 0\n",
        "# .stoi\n",
        "itos = {i:s for s, i in stoi.items()}\n",
        "# itos1 = {s:i for s, i in stoi.items()}\n",
        "# print(stoi)\n",
        "# print(stoi.items())\n",
        "# print(itos1)\n",
        "print(itos)"
      ],
      "metadata": {
        "colab": {
          "base_uri": "https://localhost:8080/"
        },
        "id": "bJjhklsyhnsk",
        "outputId": "07dfa351-3a3e-4fa4-ee31-6f38b524df45"
      },
      "execution_count": null,
      "outputs": [
        {
          "output_type": "stream",
          "name": "stdout",
          "text": [
            "{1: 'a', 2: 'b', 3: 'c', 4: 'd', 5: 'e', 6: 'f', 7: 'g', 8: 'h', 9: 'i', 10: 'j', 11: 'k', 12: 'l', 13: 'm', 14: 'n', 15: 'o', 16: 'p', 17: 'q', 18: 'r', 19: 's', 20: 't', 21: 'u', 22: 'v', 23: 'w', 24: 'x', 25: 'y', 26: 'z', 0: '.'}\n"
          ]
        }
      ]
    },
    {
      "cell_type": "code",
      "source": [
        "# build the dataset\n",
        "block_size = 3 # context length : how many characters do we take for next one ?\n",
        "X, Y = [], []\n",
        "#for w in words[:5]:\n",
        "for w in words:\n",
        "\n",
        "    #print(w)\n",
        "    context=[0] * block_size\n",
        "    # print(context)\n",
        "    for ch in w + '.':\n",
        "        #print('context:', context)\n",
        "        ix = stoi[ch]\n",
        "        #print('ix:', ix)\n",
        "        X.append(context)\n",
        "        #print('X:', X)\n",
        "        Y.append(ix)\n",
        "        #print('Y:', Y)\n",
        "        #print(''.join(itos[i] for i in context), '------>', itos[ix])\n",
        "        #print('i:')\n",
        "        #print('context[1:]:', context[1:])\n",
        "        context = context[1:] + [ix] #crop and append\n",
        "    \n",
        "X = torch.tensor(X)\n",
        "Y = torch.tensor(Y)\n"
      ],
      "metadata": {
        "id": "vUFOM-b-hnwc"
      },
      "execution_count": 26,
      "outputs": []
    },
    {
      "cell_type": "code",
      "source": [
        "X.shape, X.dtype, Y.shape, Y.dtype"
      ],
      "metadata": {
        "colab": {
          "base_uri": "https://localhost:8080/"
        },
        "id": "13KvHMKvhn3N",
        "outputId": "c9fd150c-3468-498f-a7b1-b452502a7916"
      },
      "execution_count": null,
      "outputs": [
        {
          "output_type": "execute_result",
          "data": {
            "text/plain": [
              "(torch.Size([228146, 3]), torch.int64, torch.Size([228146]), torch.int64)"
            ]
          },
          "metadata": {},
          "execution_count": 80
        }
      ]
    },
    {
      "cell_type": "code",
      "source": [
        "C = torch.randn((27,2))"
      ],
      "metadata": {
        "id": "3R7VcWRYhn6V"
      },
      "execution_count": null,
      "outputs": []
    },
    {
      "cell_type": "code",
      "source": [
        "C[5]"
      ],
      "metadata": {
        "colab": {
          "base_uri": "https://localhost:8080/"
        },
        "id": "XvIHdDWVhn9d",
        "outputId": "ccc0dad8-39d1-4791-d15b-898d2dd108e4"
      },
      "execution_count": null,
      "outputs": [
        {
          "output_type": "execute_result",
          "data": {
            "text/plain": [
              "tensor([ 0.0659, -0.8454])"
            ]
          },
          "metadata": {},
          "execution_count": 10
        }
      ]
    },
    {
      "cell_type": "code",
      "source": [
        "F.one_hot(torch.tensor(5), num_classes =27).float() @ C"
      ],
      "metadata": {
        "colab": {
          "base_uri": "https://localhost:8080/"
        },
        "id": "4uNFN0OChoAu",
        "outputId": "68fb293a-0eb9-4ed7-8409-3cc83d063a6c"
      },
      "execution_count": null,
      "outputs": [
        {
          "output_type": "execute_result",
          "data": {
            "text/plain": [
              "tensor([-0.2456,  0.6554])"
            ]
          },
          "metadata": {},
          "execution_count": 8
        }
      ]
    },
    {
      "cell_type": "code",
      "source": [
        "C[[5,6,7,]]"
      ],
      "metadata": {
        "colab": {
          "base_uri": "https://localhost:8080/"
        },
        "id": "M5qJsMoNhoD2",
        "outputId": "0de1d84e-77d8-4253-969a-3695eba83215"
      },
      "execution_count": null,
      "outputs": [
        {
          "output_type": "execute_result",
          "data": {
            "text/plain": [
              "tensor([[ 0.0659, -0.8454],\n",
              "        [ 0.0141,  1.1707],\n",
              "        [-2.0380,  1.0688]])"
            ]
          },
          "metadata": {},
          "execution_count": 12
        }
      ]
    },
    {
      "cell_type": "code",
      "source": [
        "C[X].shape"
      ],
      "metadata": {
        "colab": {
          "base_uri": "https://localhost:8080/"
        },
        "id": "PJsyvmWkhoG-",
        "outputId": "d38757f7-5290-4c0b-cd62-0e7813a0bbc9"
      },
      "execution_count": null,
      "outputs": [
        {
          "output_type": "execute_result",
          "data": {
            "text/plain": [
              "torch.Size([32, 3, 2])"
            ]
          },
          "metadata": {},
          "execution_count": 13
        }
      ]
    },
    {
      "cell_type": "code",
      "source": [
        "X[13,2]"
      ],
      "metadata": {
        "colab": {
          "base_uri": "https://localhost:8080/"
        },
        "id": "l8x3yfvPhoKP",
        "outputId": "61a93aa4-b55e-43c7-aecf-c077fb6716ad"
      },
      "execution_count": null,
      "outputs": [
        {
          "output_type": "execute_result",
          "data": {
            "text/plain": [
              "tensor(1)"
            ]
          },
          "metadata": {},
          "execution_count": 14
        }
      ]
    },
    {
      "cell_type": "code",
      "source": [
        "C[X][13,2]"
      ],
      "metadata": {
        "colab": {
          "base_uri": "https://localhost:8080/"
        },
        "id": "arCWH7m1Rk4g",
        "outputId": "a863301a-1633-4f1e-a024-9fd1b391504b"
      },
      "execution_count": null,
      "outputs": [
        {
          "output_type": "execute_result",
          "data": {
            "text/plain": [
              "tensor([1.7405, 1.5769])"
            ]
          },
          "metadata": {},
          "execution_count": 15
        }
      ]
    },
    {
      "cell_type": "code",
      "source": [
        "emb = C[X]\n",
        "emb.shape"
      ],
      "metadata": {
        "colab": {
          "base_uri": "https://localhost:8080/"
        },
        "id": "oxRtb2_2RxwW",
        "outputId": "6650d1c5-394a-4419-951a-172614c9af15"
      },
      "execution_count": null,
      "outputs": [
        {
          "output_type": "execute_result",
          "data": {
            "text/plain": [
              "torch.Size([32, 3, 2])"
            ]
          },
          "metadata": {},
          "execution_count": 16
        }
      ]
    },
    {
      "cell_type": "code",
      "source": [
        "W1 = torch.randn((6, 100))\n",
        "b1 = torch.randn(100)"
      ],
      "metadata": {
        "id": "JWaSKej5Rk7w"
      },
      "execution_count": null,
      "outputs": []
    },
    {
      "cell_type": "code",
      "source": [
        "torch.cat((emb[:,0,:], emb[:,1,:], emb[:,2,:]), 1).shape"
      ],
      "metadata": {
        "colab": {
          "base_uri": "https://localhost:8080/"
        },
        "id": "zmwYvJL3Rk-L",
        "outputId": "de14221b-35b5-407f-8456-9b8bb783f4de"
      },
      "execution_count": null,
      "outputs": [
        {
          "output_type": "execute_result",
          "data": {
            "text/plain": [
              "torch.Size([32, 6])"
            ]
          },
          "metadata": {},
          "execution_count": 18
        }
      ]
    },
    {
      "cell_type": "code",
      "source": [
        "torch.cat(torch.unbind(emb, 1), 1).shape"
      ],
      "metadata": {
        "colab": {
          "base_uri": "https://localhost:8080/"
        },
        "id": "YJzzwCkaSg4h",
        "outputId": "7ab6c002-fa08-444a-b086-44280a5392a2"
      },
      "execution_count": null,
      "outputs": [
        {
          "output_type": "execute_result",
          "data": {
            "text/plain": [
              "torch.Size([32, 6])"
            ]
          },
          "metadata": {},
          "execution_count": 19
        }
      ]
    },
    {
      "cell_type": "code",
      "source": [
        "a = torch.arange(18)\n",
        "a"
      ],
      "metadata": {
        "colab": {
          "base_uri": "https://localhost:8080/"
        },
        "id": "uyb4X2RXRlBC",
        "outputId": "a2ea4dc7-8db9-4f29-a384-90401128f6d5"
      },
      "execution_count": null,
      "outputs": [
        {
          "output_type": "execute_result",
          "data": {
            "text/plain": [
              "tensor([ 0,  1,  2,  3,  4,  5,  6,  7,  8,  9, 10, 11, 12, 13, 14, 15, 16, 17])"
            ]
          },
          "metadata": {},
          "execution_count": 20
        }
      ]
    },
    {
      "cell_type": "code",
      "source": [
        "a.shape"
      ],
      "metadata": {
        "colab": {
          "base_uri": "https://localhost:8080/"
        },
        "id": "1eClAElZRlDp",
        "outputId": "9743ad23-2a14-4216-d3fa-60276c08022f"
      },
      "execution_count": null,
      "outputs": [
        {
          "output_type": "execute_result",
          "data": {
            "text/plain": [
              "torch.Size([18])"
            ]
          },
          "metadata": {},
          "execution_count": 21
        }
      ]
    },
    {
      "cell_type": "code",
      "source": [
        "a.view(3,3,2)"
      ],
      "metadata": {
        "colab": {
          "base_uri": "https://localhost:8080/"
        },
        "id": "a97MgVEFRlJR",
        "outputId": "bc41eea3-1e72-4f62-859a-7c281739efbb"
      },
      "execution_count": null,
      "outputs": [
        {
          "output_type": "execute_result",
          "data": {
            "text/plain": [
              "tensor([[[ 0,  1],\n",
              "         [ 2,  3],\n",
              "         [ 4,  5]],\n",
              "\n",
              "        [[ 6,  7],\n",
              "         [ 8,  9],\n",
              "         [10, 11]],\n",
              "\n",
              "        [[12, 13],\n",
              "         [14, 15],\n",
              "         [16, 17]]])"
            ]
          },
          "metadata": {},
          "execution_count": 22
        }
      ]
    },
    {
      "cell_type": "code",
      "source": [
        "a.storage()"
      ],
      "metadata": {
        "colab": {
          "base_uri": "https://localhost:8080/"
        },
        "id": "0bx7rb6ORlL_",
        "outputId": "286bdc9b-0eb0-4b94-a7b0-56ef944adbcd"
      },
      "execution_count": null,
      "outputs": [
        {
          "output_type": "stream",
          "name": "stderr",
          "text": [
            "<ipython-input-23-d39b3459ecdd>:1: UserWarning: TypedStorage is deprecated. It will be removed in the future and UntypedStorage will be the only storage class. This should only matter to you if you are using storages directly.  To access UntypedStorage directly, use tensor.untyped_storage() instead of tensor.storage()\n",
            "  a.storage()\n",
            "/usr/local/lib/python3.10/dist-packages/IPython/lib/pretty.py:700: UserWarning: TypedStorage is deprecated. It will be removed in the future and UntypedStorage will be the only storage class. This should only matter to you if you are using storages directly.  To access UntypedStorage directly, use tensor.untyped_storage() instead of tensor.storage()\n",
            "  output = repr(obj)\n",
            "/usr/local/lib/python3.10/dist-packages/torch/storage.py:645: UserWarning: TypedStorage is deprecated. It will be removed in the future and UntypedStorage will be the only storage class. This should only matter to you if you are using storages directly.  To access UntypedStorage directly, use tensor.untyped_storage() instead of tensor.storage()\n",
            "  return str(self)\n",
            "/usr/local/lib/python3.10/dist-packages/torch/storage.py:636: UserWarning: TypedStorage is deprecated. It will be removed in the future and UntypedStorage will be the only storage class. This should only matter to you if you are using storages directly.  To access UntypedStorage directly, use tensor.untyped_storage() instead of tensor.storage()\n",
            "  f'device={self.device}) of size {len(self)}]')\n",
            "/usr/local/lib/python3.10/dist-packages/torch/storage.py:637: UserWarning: TypedStorage is deprecated. It will be removed in the future and UntypedStorage will be the only storage class. This should only matter to you if you are using storages directly.  To access UntypedStorage directly, use tensor.untyped_storage() instead of tensor.storage()\n",
            "  if self.device.type == 'meta':\n",
            "/usr/local/lib/python3.10/dist-packages/torch/storage.py:640: UserWarning: TypedStorage is deprecated. It will be removed in the future and UntypedStorage will be the only storage class. This should only matter to you if you are using storages directly.  To access UntypedStorage directly, use tensor.untyped_storage() instead of tensor.storage()\n",
            "  data_str = ' ' + '\\n '.join(str(self[i]) for i in range(self.size()))\n"
          ]
        },
        {
          "output_type": "execute_result",
          "data": {
            "text/plain": [
              " 0\n",
              " 1\n",
              " 2\n",
              " 3\n",
              " 4\n",
              " 5\n",
              " 6\n",
              " 7\n",
              " 8\n",
              " 9\n",
              " 10\n",
              " 11\n",
              " 12\n",
              " 13\n",
              " 14\n",
              " 15\n",
              " 16\n",
              " 17\n",
              "[torch.storage.TypedStorage(dtype=torch.int64, device=cpu) of size 18]"
            ]
          },
          "metadata": {},
          "execution_count": 23
        }
      ]
    },
    {
      "cell_type": "code",
      "source": [
        "a.view(3,3,2).storage()"
      ],
      "metadata": {
        "colab": {
          "base_uri": "https://localhost:8080/"
        },
        "id": "4svTLo8fRlOm",
        "outputId": "0d124201-2309-4c9d-fe87-146086806675"
      },
      "execution_count": null,
      "outputs": [
        {
          "output_type": "stream",
          "name": "stderr",
          "text": [
            "<ipython-input-24-3072bc567fc2>:1: UserWarning: TypedStorage is deprecated. It will be removed in the future and UntypedStorage will be the only storage class. This should only matter to you if you are using storages directly.  To access UntypedStorage directly, use tensor.untyped_storage() instead of tensor.storage()\n",
            "  a.view(3,3,2).storage()\n"
          ]
        },
        {
          "output_type": "execute_result",
          "data": {
            "text/plain": [
              " 0\n",
              " 1\n",
              " 2\n",
              " 3\n",
              " 4\n",
              " 5\n",
              " 6\n",
              " 7\n",
              " 8\n",
              " 9\n",
              " 10\n",
              " 11\n",
              " 12\n",
              " 13\n",
              " 14\n",
              " 15\n",
              " 16\n",
              " 17\n",
              "[torch.storage.TypedStorage(dtype=torch.int64, device=cpu) of size 18]"
            ]
          },
          "metadata": {},
          "execution_count": 24
        }
      ]
    },
    {
      "cell_type": "code",
      "source": [
        "emb.view(32,6)"
      ],
      "metadata": {
        "colab": {
          "base_uri": "https://localhost:8080/"
        },
        "id": "sIG_50NHRlR1",
        "outputId": "a5c07844-5fe6-4510-e65a-046ca685cb96"
      },
      "execution_count": null,
      "outputs": [
        {
          "output_type": "execute_result",
          "data": {
            "text/plain": [
              "tensor([[-0.6946, -1.4146, -0.6946, -1.4146, -0.6946, -1.4146],\n",
              "        [-0.6946, -1.4146, -0.6946, -1.4146,  0.0659, -0.8454],\n",
              "        [-0.6946, -1.4146,  0.0659, -0.8454,  0.9118, -0.7653],\n",
              "        [ 0.0659, -0.8454,  0.9118, -0.7653,  0.9118, -0.7653],\n",
              "        [ 0.9118, -0.7653,  0.9118, -0.7653,  1.7405,  1.5769],\n",
              "        [-0.6946, -1.4146, -0.6946, -1.4146, -0.6946, -1.4146],\n",
              "        [-0.6946, -1.4146, -0.6946, -1.4146, -0.5949, -0.8095],\n",
              "        [-0.6946, -1.4146, -0.5949, -0.8095, -1.5494, -0.0671],\n",
              "        [-0.5949, -0.8095, -1.5494, -0.0671,  1.3802, -1.9001],\n",
              "        [-1.5494, -0.0671,  1.3802, -1.9001,  0.0575, -0.1423],\n",
              "        [ 1.3802, -1.9001,  0.0575, -0.1423,  1.3802, -1.9001],\n",
              "        [ 0.0575, -0.1423,  1.3802, -1.9001,  1.7405,  1.5769],\n",
              "        [-0.6946, -1.4146, -0.6946, -1.4146, -0.6946, -1.4146],\n",
              "        [-0.6946, -1.4146, -0.6946, -1.4146,  1.7405,  1.5769],\n",
              "        [-0.6946, -1.4146,  1.7405,  1.5769,  0.0575, -0.1423],\n",
              "        [ 1.7405,  1.5769,  0.0575, -0.1423,  1.7405,  1.5769],\n",
              "        [-0.6946, -1.4146, -0.6946, -1.4146, -0.6946, -1.4146],\n",
              "        [-0.6946, -1.4146, -0.6946, -1.4146,  1.3802, -1.9001],\n",
              "        [-0.6946, -1.4146,  1.3802, -1.9001,  1.2803,  0.4219],\n",
              "        [ 1.3802, -1.9001,  1.2803,  0.4219,  1.7405,  1.5769],\n",
              "        [ 1.2803,  0.4219,  1.7405,  1.5769,  0.8914, -1.0433],\n",
              "        [ 1.7405,  1.5769,  0.8914, -1.0433,  0.0659, -0.8454],\n",
              "        [ 0.8914, -1.0433,  0.0659, -0.8454, -1.5494, -0.0671],\n",
              "        [ 0.0659, -0.8454, -1.5494, -0.0671, -1.5494, -0.0671],\n",
              "        [-1.5494, -0.0671, -1.5494, -0.0671,  1.7405,  1.5769],\n",
              "        [-0.6946, -1.4146, -0.6946, -1.4146, -0.6946, -1.4146],\n",
              "        [-0.6946, -1.4146, -0.6946, -1.4146,  1.2803,  0.4219],\n",
              "        [-0.6946, -1.4146,  1.2803,  0.4219, -0.5949, -0.8095],\n",
              "        [ 1.2803,  0.4219, -0.5949, -0.8095, -0.0799,  0.6185],\n",
              "        [-0.5949, -0.8095, -0.0799,  0.6185, -0.2761,  0.4059],\n",
              "        [-0.0799,  0.6185, -0.2761,  0.4059,  1.3802, -1.9001],\n",
              "        [-0.2761,  0.4059,  1.3802, -1.9001,  1.7405,  1.5769]])"
            ]
          },
          "metadata": {},
          "execution_count": 25
        }
      ]
    },
    {
      "cell_type": "code",
      "source": [
        "h = emb.view(emb.shape[0], 6) @ W1 + b1 # emb.shape(0) 은 -1로 써두 된다. "
      ],
      "metadata": {
        "id": "c3LFZdngRlU2"
      },
      "execution_count": null,
      "outputs": []
    },
    {
      "cell_type": "code",
      "source": [
        "h = torch.tanh(h)\n",
        "h"
      ],
      "metadata": {
        "colab": {
          "base_uri": "https://localhost:8080/"
        },
        "id": "3itRz5jrWuDK",
        "outputId": "620eaa57-22eb-447e-eac1-2a3625839fa0"
      },
      "execution_count": null,
      "outputs": [
        {
          "output_type": "execute_result",
          "data": {
            "text/plain": [
              "tensor([[-0.6796,  1.0000, -0.4748,  ..., -0.6973, -0.2011, -0.9290],\n",
              "        [-0.6169,  1.0000,  0.2521,  ...,  0.0565,  0.1818, -0.8550],\n",
              "        [-0.8813,  1.0000,  0.1891,  ...,  0.9288, -0.2897, -0.8844],\n",
              "        ...,\n",
              "        [-0.9858,  0.2639,  0.9748,  ...,  0.7361,  0.9196, -0.7024],\n",
              "        [ 0.9984,  0.5948, -0.4856,  ..., -0.9530, -0.9950, -0.9415],\n",
              "        [-0.9506,  0.9978,  0.7401,  ...,  1.0000,  0.9758, -0.9498]])"
            ]
          },
          "metadata": {},
          "execution_count": 27
        }
      ]
    },
    {
      "cell_type": "code",
      "source": [
        "b1.shape"
      ],
      "metadata": {
        "colab": {
          "base_uri": "https://localhost:8080/"
        },
        "id": "opPQqraaWuoY",
        "outputId": "63f6658f-7a04-4445-da8f-8bc58b51d6d5"
      },
      "execution_count": null,
      "outputs": [
        {
          "output_type": "execute_result",
          "data": {
            "text/plain": [
              "torch.Size([100])"
            ]
          },
          "metadata": {},
          "execution_count": 28
        }
      ]
    },
    {
      "cell_type": "code",
      "source": [
        "W2 = torch.randn((100, 27))\n",
        "b2 = torch.randn(27)"
      ],
      "metadata": {
        "id": "-2Z22UQgWvNi"
      },
      "execution_count": null,
      "outputs": []
    },
    {
      "cell_type": "code",
      "source": [
        "logits = h @ W2 + b2"
      ],
      "metadata": {
        "id": "4u9MoiVsWvR0"
      },
      "execution_count": null,
      "outputs": []
    },
    {
      "cell_type": "code",
      "source": [
        "logits.shape"
      ],
      "metadata": {
        "colab": {
          "base_uri": "https://localhost:8080/"
        },
        "id": "V3jx8ykXWvVO",
        "outputId": "f7aa4e04-27cc-4a5c-8c22-8319d87d063c"
      },
      "execution_count": null,
      "outputs": [
        {
          "output_type": "execute_result",
          "data": {
            "text/plain": [
              "torch.Size([32, 27])"
            ]
          },
          "metadata": {},
          "execution_count": 31
        }
      ]
    },
    {
      "cell_type": "code",
      "source": [
        "counts = logits.exp()"
      ],
      "metadata": {
        "id": "j9h69SllWvY6"
      },
      "execution_count": null,
      "outputs": []
    },
    {
      "cell_type": "code",
      "source": [
        "prob = counts / counts.sum(1, keepdims=True)"
      ],
      "metadata": {
        "id": "8MOp2msgWvcn"
      },
      "execution_count": null,
      "outputs": []
    },
    {
      "cell_type": "code",
      "source": [
        "prob.shape"
      ],
      "metadata": {
        "colab": {
          "base_uri": "https://localhost:8080/"
        },
        "id": "Dmmv5TH-WvgE",
        "outputId": "2b722fce-f1cf-4054-fb20-2793f3f98070"
      },
      "execution_count": null,
      "outputs": [
        {
          "output_type": "execute_result",
          "data": {
            "text/plain": [
              "torch.Size([32, 27])"
            ]
          },
          "metadata": {},
          "execution_count": 34
        }
      ]
    },
    {
      "cell_type": "code",
      "source": [
        "Y"
      ],
      "metadata": {
        "colab": {
          "base_uri": "https://localhost:8080/"
        },
        "id": "2ATdO3d6Wvjr",
        "outputId": "ae839e54-d13b-4362-a5ee-02fc1775e653"
      },
      "execution_count": null,
      "outputs": [
        {
          "output_type": "execute_result",
          "data": {
            "text/plain": [
              "tensor([ 5, 13, 13,  1,  0, 15, 12,  9, 22,  9,  1,  0,  1, 22,  1,  0,  9, 19,\n",
              "         1,  2,  5, 12, 12,  1,  0, 19, 15, 16,  8,  9,  1,  0])"
            ]
          },
          "metadata": {},
          "execution_count": 35
        }
      ]
    },
    {
      "cell_type": "code",
      "source": [
        "loss = -prob[torch.arange(32), Y].log().mean()\n",
        "loss"
      ],
      "metadata": {
        "colab": {
          "base_uri": "https://localhost:8080/"
        },
        "id": "yU1H-pQ9WvnW",
        "outputId": "f5e751e4-5366-4dac-cb0f-61b2b9d191ce"
      },
      "execution_count": null,
      "outputs": [
        {
          "output_type": "execute_result",
          "data": {
            "text/plain": [
              "tensor(18.7657)"
            ]
          },
          "metadata": {},
          "execution_count": 36
        }
      ]
    },
    {
      "cell_type": "markdown",
      "source": [
        "각 코드종합 - 유투브 32:36"
      ],
      "metadata": {
        "id": "-BZDGHHQYXCf"
      }
    },
    {
      "cell_type": "code",
      "source": [
        "X.shape, Y.shape #dataset"
      ],
      "metadata": {
        "colab": {
          "base_uri": "https://localhost:8080/"
        },
        "id": "36DtcXIqWvqu",
        "outputId": "db3ea429-f128-45f1-cbe2-907941b61d51"
      },
      "execution_count": null,
      "outputs": [
        {
          "output_type": "execute_result",
          "data": {
            "text/plain": [
              "(torch.Size([228146, 3]), torch.Size([228146]))"
            ]
          },
          "metadata": {},
          "execution_count": 9
        }
      ]
    },
    {
      "cell_type": "code",
      "source": [
        "g = torch.Generator().manual_seed(2147483647) #for reporucibility\n",
        "C = torch.randn((27, 2), generator=g)\n",
        "W1 = torch.randn((6, 100), generator=g)\n",
        "b1 = torch.randn(100, generator=g)\n",
        "W2 = torch.randn((100, 27), generator=g)\n",
        "b2 = torch.randn(27, generator=g)\n",
        "parameters = [C, W1, b1, W2, b2]"
      ],
      "metadata": {
        "id": "iVyZ53ApWvuq"
      },
      "execution_count": 27,
      "outputs": []
    },
    {
      "cell_type": "code",
      "source": [
        "sum(p.nelement() for p in parameters) # number of parameters in total "
      ],
      "metadata": {
        "colab": {
          "base_uri": "https://localhost:8080/"
        },
        "id": "snm7t1HC9Fvx",
        "outputId": "10fcc95b-fe98-4093-ff2a-723e29999064"
      },
      "execution_count": 28,
      "outputs": [
        {
          "output_type": "execute_result",
          "data": {
            "text/plain": [
              "3481"
            ]
          },
          "metadata": {},
          "execution_count": 28
        }
      ]
    },
    {
      "cell_type": "code",
      "source": [
        "for p in parameters:\n",
        "    p.requires_grad = True"
      ],
      "metadata": {
        "id": "omZlTV9JI5Pu"
      },
      "execution_count": 29,
      "outputs": []
    },
    {
      "cell_type": "code",
      "source": [
        "for _ in range(100):\n",
        "\n",
        "    #minibatch construct\n",
        "    ix = torch.randint(0, X.shape[0], (32,))\n",
        "\n",
        "    #forward pass\n",
        "    emb = C[X[ix]]  #(32, 3, 2)\n",
        "    h = torch.tanh(emb.view(-1,6) @ W1 + b1) #(32, 100)\n",
        "    logits = h @ W2 +b2 # (32, 37)\n",
        "    #counts = logits.exp()\n",
        "    #probs = counts / counts.sum(1, keepdims = True)\n",
        "    #loss = -probs[torch.arange(32), Y].log().mean()\n",
        "    loss = F.cross_entropy(logits, Y[ix]) # 위 3개의 열이 다음의 cross_entropy 하나로 계산될 수 있다. \n",
        "    #print(loss.item())\n",
        "\n",
        "    #backward pass\n",
        "    for p in parameters:\n",
        "        p.grad  = None\n",
        "    loss.backward()\n",
        "\n",
        "    #update \n",
        "    for p in parameters:\n",
        "        p.data += -0.1 * p.grad\n",
        "print(loss.item())"
      ],
      "metadata": {
        "colab": {
          "base_uri": "https://localhost:8080/"
        },
        "id": "ogMdGhUx9GXr",
        "outputId": "7552b166-df13-46dc-a83d-c77c2fada39e"
      },
      "execution_count": 38,
      "outputs": [
        {
          "output_type": "stream",
          "name": "stdout",
          "text": [
            "2.5166420936584473\n"
          ]
        }
      ]
    },
    {
      "cell_type": "code",
      "source": [
        "torch.randint(0, X.shape[0], (32,))"
      ],
      "metadata": {
        "colab": {
          "base_uri": "https://localhost:8080/"
        },
        "id": "pUd-STNDNadl",
        "outputId": "d76c8624-fc05-4bd0-d7d5-c95b85774211"
      },
      "execution_count": null,
      "outputs": [
        {
          "output_type": "execute_result",
          "data": {
            "text/plain": [
              "tensor([141649,  30877, 226826, 129892,   3233, 146500, 116175,  96350,  19439,\n",
              "        177031,  23113,  15527, 152170,  11135, 126513,  87623, 145778, 225628,\n",
              "        109263,  84430,  64889, 151354, 212255, 220988,  70014,  19785, 130225,\n",
              "        189120,  63915, 202684, 122905,  73762])"
            ]
          },
          "metadata": {},
          "execution_count": 90
        }
      ]
    },
    {
      "cell_type": "code",
      "source": [
        "logits.max(1)"
      ],
      "metadata": {
        "colab": {
          "base_uri": "https://localhost:8080/"
        },
        "id": "smMBiwMALokk",
        "outputId": "4b11b600-4b8f-4dbe-cb23-69dea91cc700"
      },
      "execution_count": null,
      "outputs": [
        {
          "output_type": "execute_result",
          "data": {
            "text/plain": [
              "torch.return_types.max(\n",
              "values=tensor([11.3564, 13.4371, 18.7621, 17.3656, 14.0002, 11.3564, 13.2120, 11.4477,\n",
              "        13.6701, 15.9577, 12.8196, 17.9280, 11.3564, 13.6379, 14.5011, 16.0014,\n",
              "        11.3564, 13.8758, 12.1043, 13.5104, 16.3694, 13.0214,  8.1132,  8.2464,\n",
              "        13.9033, 11.3564, 13.6566, 13.9198, 11.4311, 14.4014, 16.1431, 13.0896],\n",
              "       grad_fn=<MaxBackward0>),\n",
              "indices=tensor([ 1, 13, 13,  1,  0,  1, 12,  9, 22,  9,  1,  0,  1, 22,  1,  0,  1, 19,\n",
              "         1,  2,  5, 12, 12,  1,  0,  1, 15, 16,  8,  9,  1,  0]))"
            ]
          },
          "metadata": {},
          "execution_count": 75
        }
      ]
    },
    {
      "cell_type": "code",
      "source": [
        "#logits = torch.tensor([-5, -3, 0, 100]) - 100\n",
        "#counts = logits.exp()\n",
        "#probs = counts / counts.sum()\n",
        "#probs"
      ],
      "metadata": {
        "colab": {
          "base_uri": "https://localhost:8080/"
        },
        "id": "D8WIToRn9Gew",
        "outputId": "2e9c6d7b-ef78-4b7b-ddd1-23765ceed54a"
      },
      "execution_count": null,
      "outputs": [
        {
          "output_type": "execute_result",
          "data": {
            "text/plain": [
              "tensor([0.0000e+00, 1.4013e-45, 3.7835e-44, 1.0000e+00])"
            ]
          },
          "metadata": {},
          "execution_count": 47
        }
      ]
    },
    {
      "cell_type": "code",
      "source": [
        "#counts"
      ],
      "metadata": {
        "colab": {
          "base_uri": "https://localhost:8080/"
        },
        "id": "vBIoZx-J9Gkc",
        "outputId": "585cc465-94a5-4587-f37e-1d28a29b5e49"
      },
      "execution_count": null,
      "outputs": [
        {
          "output_type": "execute_result",
          "data": {
            "text/plain": [
              "tensor([4.5400e-05, 3.3546e-04, 6.7379e-03, 1.0000e+00])"
            ]
          },
          "metadata": {},
          "execution_count": 46
        }
      ]
    },
    {
      "cell_type": "code",
      "source": [
        "# 유투브 44:39 런닝 레이트를 정하는 방법 정리"
      ],
      "metadata": {
        "id": "xsNBdcBMWrzj"
      },
      "execution_count": null,
      "outputs": []
    },
    {
      "cell_type": "code",
      "source": [
        "g = torch.Generator().manual_seed(2147483647) #for reporucibility\n",
        "C = torch.randn((27, 2), generator=g)\n",
        "W1 = torch.randn((6, 100), generator=g)\n",
        "b1 = torch.randn(100, generator=g)\n",
        "W2 = torch.randn((100, 27), generator=g)\n",
        "b2 = torch.randn(27, generator=g)\n",
        "parameters = [C, W1, b1, W2, b2]"
      ],
      "metadata": {
        "id": "02a2zuqbs0no"
      },
      "execution_count": 77,
      "outputs": []
    },
    {
      "cell_type": "code",
      "source": [
        "sum(p.nelement() for p in parameters) # number of parameters in total "
      ],
      "metadata": {
        "colab": {
          "base_uri": "https://localhost:8080/"
        },
        "id": "Xih1sMoBx7JT",
        "outputId": "86451c86-abc1-4f29-cbeb-6791d90e83c8"
      },
      "execution_count": 78,
      "outputs": [
        {
          "output_type": "execute_result",
          "data": {
            "text/plain": [
              "3481"
            ]
          },
          "metadata": {},
          "execution_count": 78
        }
      ]
    },
    {
      "cell_type": "code",
      "source": [
        "for p in parameters:\n",
        "    p.requires_grad = True"
      ],
      "metadata": {
        "id": "bbHb4fMix7Gc"
      },
      "execution_count": 79,
      "outputs": []
    },
    {
      "cell_type": "code",
      "source": [
        "lre = torch.linspace(-3, 0, 1000)\n",
        "lrs = 10**lre\n",
        "# lrs"
      ],
      "metadata": {
        "id": "ipWWYdLLywjh"
      },
      "execution_count": 80,
      "outputs": []
    },
    {
      "cell_type": "code",
      "source": [
        "lri = []\n",
        "lossi =[]\n",
        "\n",
        "for i in range(1000):\n",
        "\n",
        "    #minibatch construct\n",
        "    ix = torch.randint(0, X.shape[0], (32,))\n",
        "\n",
        "    #forward pass\n",
        "    emb = C[X[ix]]  #(32, 3, 2)\n",
        "    h = torch.tanh(emb.view(-1,6) @ W1 + b1) #(32, 100)\n",
        "    logits = h @ W2 +b2 # (32, 37)\n",
        "    loss = F.cross_entropy(logits, Y[ix]) # 위 3개의 열이 다음의 cross_entropy 하나로 계산될 수 있다. \n",
        "    #print(loss.item())\n",
        "\n",
        "    #backward pass\n",
        "    for p in parameters:\n",
        "        p.grad  = None\n",
        "    loss.backward()\n",
        "\n",
        "    #update \n",
        "    lr = lrs[i]\n",
        "    for p in parameters:\n",
        "        p.data += -lr * p.grad\n",
        "\n",
        "    #track_size\n",
        "    lri.append(lre[i])\n",
        "    lossi.append(loss.item())\n",
        "print(loss.item())"
      ],
      "metadata": {
        "colab": {
          "base_uri": "https://localhost:8080/"
        },
        "id": "AvJ-SYbqx7EP",
        "outputId": "5da43316-5440-4951-b678-a46b78d5a543"
      },
      "execution_count": 82,
      "outputs": [
        {
          "output_type": "stream",
          "name": "stdout",
          "text": [
            "6.415245056152344\n"
          ]
        }
      ]
    },
    {
      "cell_type": "code",
      "source": [
        "plt.plot(lri, lossi)"
      ],
      "metadata": {
        "colab": {
          "base_uri": "https://localhost:8080/",
          "height": 447
        },
        "id": "b1QQctbCz8Zi",
        "outputId": "ef98cc2b-c753-4ada-b546-2b0ad9fed9f7"
      },
      "execution_count": 83,
      "outputs": [
        {
          "output_type": "execute_result",
          "data": {
            "text/plain": [
              "[<matplotlib.lines.Line2D at 0x7fdae8137f10>]"
            ]
          },
          "metadata": {},
          "execution_count": 83
        },
        {
          "output_type": "display_data",
          "data": {
            "text/plain": [
              "<Figure size 640x480 with 1 Axes>"
            ],
            "image/png": "[encoded data removed]"
          },
          "metadata": {}
        }
      ]
    },
    {
      "cell_type": "code",
      "source": [
        "emb = C[X]  #(32, 3, 2)\n",
        "h = torch.tanh(emb.view(-1,6) @ W1 + b1) #(32, 100)\n",
        "logits = h @ W2 +b2 # (32, 37)\n",
        "loss = F.cross_entropy(logits, Y)\n",
        "loss"
      ],
      "metadata": {
        "colab": {
          "base_uri": "https://localhost:8080/"
        },
        "id": "XPEdvDfQx7Bw",
        "outputId": "81e9e207-feda-4f79-898a-c9e139d9d850"
      },
      "execution_count": 58,
      "outputs": [
        {
          "output_type": "execute_result",
          "data": {
            "text/plain": [
              "tensor(2.7252, grad_fn=<NllLossBackward0>)"
            ]
          },
          "metadata": {},
          "execution_count": 58
        }
      ]
    },
    {
      "cell_type": "code",
      "source": [
        "# 유투브 56:00 오버피팅 방지 위해 트레인 데이타 80%, 밸리데이션 10%, 테스트 10% 나누는 방법"
      ],
      "metadata": {
        "id": "x7boWvrps02f"
      },
      "execution_count": null,
      "outputs": []
    },
    {
      "cell_type": "code",
      "source": [
        "# training split, dev/validation split, test split\n",
        "# 80%, 10%, 10%"
      ],
      "metadata": {
        "id": "gFYp1wSkx65T"
      },
      "execution_count": null,
      "outputs": []
    },
    {
      "cell_type": "code",
      "source": [
        "# build the dataset\n",
        "\n",
        "def build_dataset(words):\n",
        "    block_size = 3 # context length : how many characters do we take for next one ?\n",
        "    X, Y = [], []\n",
        "\n",
        "    for w in words:\n",
        "\n",
        "        #print(w)\n",
        "        context=[0] * block_size\n",
        "        for ch in w + '.':\n",
        "            ix = stoi[ch]\n",
        "            X.append(context)\n",
        "            Y.append(ix)\n",
        "            #print(''.join(itos[i] for i in context), '------>', itos[ix])\n",
        "            context = context[1:] + [ix] #crop and append\n",
        "        \n",
        "    X = torch.tensor(X)\n",
        "    Y = torch.tensor(Y)\n",
        "    print(X.shape, Y.shape)\n",
        "    return X, Y\n",
        "\n",
        "import random\n",
        "random.seed(42)\n",
        "random.shuffle(words)\n",
        "n1 = int(0.8*len(words))\n",
        "n2 = int(0.9*len(words))\n",
        "\n",
        "Xtr, Ytr = build_dataset(words[:n1])\n",
        "Xdev, Ydev = build_dataset(words[n1:n2])\n",
        "Xte, Yte = build_dataset(words[n2:])"
      ],
      "metadata": {
        "colab": {
          "base_uri": "https://localhost:8080/"
        },
        "id": "5hqbX5Hmx61k",
        "outputId": "a49c7d2b-a24b-4850-b362-8587c9d13fb4"
      },
      "execution_count": 102,
      "outputs": [
        {
          "output_type": "stream",
          "name": "stdout",
          "text": [
            "torch.Size([182437, 3]) torch.Size([182437])\n",
            "torch.Size([22781, 3]) torch.Size([22781])\n",
            "torch.Size([22928, 3]) torch.Size([22928])\n"
          ]
        }
      ]
    },
    {
      "cell_type": "code",
      "source": [
        "n1"
      ],
      "metadata": {
        "colab": {
          "base_uri": "https://localhost:8080/"
        },
        "id": "w57slzJbx68D",
        "outputId": "5f184422-45c3-4cff-fef0-7281e5639e0e"
      },
      "execution_count": 91,
      "outputs": [
        {
          "output_type": "execute_result",
          "data": {
            "text/plain": [
              "25626"
            ]
          },
          "metadata": {},
          "execution_count": 91
        }
      ]
    },
    {
      "cell_type": "code",
      "source": [
        "n2"
      ],
      "metadata": {
        "colab": {
          "base_uri": "https://localhost:8080/"
        },
        "id": "q5nVVpWpx6sz",
        "outputId": "07a7d163-1926-4988-80e6-c6f327fbd5fd"
      },
      "execution_count": 92,
      "outputs": [
        {
          "output_type": "execute_result",
          "data": {
            "text/plain": [
              "28829"
            ]
          },
          "metadata": {},
          "execution_count": 92
        }
      ]
    },
    {
      "cell_type": "code",
      "source": [
        "n2-n1"
      ],
      "metadata": {
        "colab": {
          "base_uri": "https://localhost:8080/"
        },
        "id": "r7wKQhiWx6-6",
        "outputId": "b912f26b-1081-495c-cb35-0ca79426d517"
      },
      "execution_count": 93,
      "outputs": [
        {
          "output_type": "execute_result",
          "data": {
            "text/plain": [
              "3203"
            ]
          },
          "metadata": {},
          "execution_count": 93
        }
      ]
    },
    {
      "cell_type": "code",
      "source": [
        "len(words)-n2"
      ],
      "metadata": {
        "id": "mLgcZs2Xs0-4",
        "colab": {
          "base_uri": "https://localhost:8080/"
        },
        "outputId": "9ca631e0-9bee-4c37-ed8b-9a528c361fef"
      },
      "execution_count": 94,
      "outputs": [
        {
          "output_type": "execute_result",
          "data": {
            "text/plain": [
              "3204"
            ]
          },
          "metadata": {},
          "execution_count": 94
        }
      ]
    },
    {
      "cell_type": "code",
      "source": [
        "Xtr.shape, Ytr.shape #dataset"
      ],
      "metadata": {
        "id": "G6KNSzkjs1CN",
        "colab": {
          "base_uri": "https://localhost:8080/"
        },
        "outputId": "f2b5e38b-e8cd-4892-b3c3-93d384ac7da2"
      },
      "execution_count": 103,
      "outputs": [
        {
          "output_type": "execute_result",
          "data": {
            "text/plain": [
              "(torch.Size([182437, 3]), torch.Size([182437]))"
            ]
          },
          "metadata": {},
          "execution_count": 103
        }
      ]
    },
    {
      "cell_type": "code",
      "source": [
        "g = torch.Generator().manual_seed(2147483647) #for reporucibility\n",
        "# C = torch.randn((27, 2), generator=g)\n",
        "C = torch.randn((27, 10), generator=g)\n",
        "# W1 = torch.randn((6, 100), generator=g)\n",
        "# W1 = torch.randn((6, 300), generator=g)\n",
        "W1 = torch.randn((30, 200), generator=g)\n",
        "# b1 = torch.randn(100, generator=g)\n",
        "# b1 = torch.randn(300, generator=g)\n",
        "b1 = torch.randn(200, generator=g)\n",
        "# W2 = torch.randn((100, 27), generator=g)\n",
        "# W2 = torch.randn((300, 27), generator=g)\n",
        "W2 = torch.randn((200, 27), generator=g)\n",
        "b2 = torch.randn(27, generator=g)\n",
        "parameters = [C, W1, b1, W2, b2]"
      ],
      "metadata": {
        "id": "UoeRLFNys1F3"
      },
      "execution_count": 136,
      "outputs": []
    },
    {
      "cell_type": "code",
      "source": [
        "g = torch.Generator().manual_seed(2147483647) #for reporucibility\n",
        "C = torch.randn((27, 2), generator=g)\n",
        "W1 = torch.randn((6, 300), generator=g)\n",
        "b1 = torch.randn(300, generator=g)\n",
        "W2 = torch.randn((300, 27), generator=g)\n",
        "b2 = torch.randn(27, generator=g)\n",
        "parameters = [C, W1, b1, W2, b2]"
      ],
      "metadata": {
        "id": "tqtQcOyTVXak"
      },
      "execution_count": 120,
      "outputs": []
    },
    {
      "cell_type": "code",
      "source": [
        "sum(p.nelement() for p in parameters) # number of parameters in total "
      ],
      "metadata": {
        "colab": {
          "base_uri": "https://localhost:8080/"
        },
        "id": "1nttBmieV4iy",
        "outputId": "88e464b8-e06f-489f-b586-1f3dbe13d267"
      },
      "execution_count": 137,
      "outputs": [
        {
          "output_type": "execute_result",
          "data": {
            "text/plain": [
              "11897"
            ]
          },
          "metadata": {},
          "execution_count": 137
        }
      ]
    },
    {
      "cell_type": "code",
      "source": [
        "for p in parameters:\n",
        "    p.requires_grad = True"
      ],
      "metadata": {
        "id": "oQv1pAKws1Jp"
      },
      "execution_count": 138,
      "outputs": []
    },
    {
      "cell_type": "code",
      "source": [
        "# lre = torch.linspace(-3, 0, 1000)\n",
        "# lrs = 10**lre"
      ],
      "metadata": {
        "id": "9cvnxvQTs1NT"
      },
      "execution_count": 98,
      "outputs": []
    },
    {
      "cell_type": "code",
      "source": [
        "lri = []\n",
        "lossi =[]\n",
        "stepi = []"
      ],
      "metadata": {
        "id": "gn70W0KdZ4aX"
      },
      "execution_count": 139,
      "outputs": []
    },
    {
      "cell_type": "code",
      "source": [
        "\n",
        "for i in range(200000):\n",
        "\n",
        "    #minibatch construct\n",
        "    ix = torch.randint(0, Xtr.shape[0], (32,))\n",
        "\n",
        "    #forward pass\n",
        "    emb = C[Xtr[ix]]  #(32, 3, 2)\n",
        "    # h = torch.tanh(emb.view(-1,6) @ W1 + b1) #(32, 100)\n",
        "    h = torch.tanh(emb.view(-1,30) @ W1 + b1) #(32, 100)\n",
        "    logits = h @ W2 +b2 # (32, 37)\n",
        "    loss = F.cross_entropy(logits, Ytr[ix]) # 위 3개의 열이 다음의 cross_entropy 하나로 계산될 수 있다. \n",
        "    #print(loss.item())\n",
        "\n",
        "    #backward pass\n",
        "    for p in parameters:\n",
        "        p.grad  = None\n",
        "    loss.backward()\n",
        "\n",
        "    #update \n",
        "    # lr = 0.01\n",
        "    lr = 0.1 if i < 100000 else 0.01\n",
        "    for p in parameters:\n",
        "        p.data += -lr * p.grad\n",
        "\n",
        "    #track_size\n",
        "    # lri.append(lre[i])\n",
        "    stepi.append(i)\n",
        "    lossi.append(loss.log10().item())\n",
        "    # lossi.append(loss.item())\n",
        "print(loss.item())"
      ],
      "metadata": {
        "id": "CicB5LICs1Q8",
        "colab": {
          "base_uri": "https://localhost:8080/"
        },
        "outputId": "2c939700-0047-4ca6-841d-008b334e1ba7"
      },
      "execution_count": 150,
      "outputs": [
        {
          "output_type": "stream",
          "name": "stdout",
          "text": [
            "2.388546943664551\n"
          ]
        }
      ]
    },
    {
      "cell_type": "code",
      "source": [
        "plt.plot(stepi, lossi)"
      ],
      "metadata": {
        "colab": {
          "base_uri": "https://localhost:8080/",
          "height": 447
        },
        "id": "GqTjkLuPWoRy",
        "outputId": "9f9a2714-b314-4100-d6a4-b25960b56845"
      },
      "execution_count": 151,
      "outputs": [
        {
          "output_type": "execute_result",
          "data": {
            "text/plain": [
              "[<matplotlib.lines.Line2D at 0x7fd9f5562200>]"
            ]
          },
          "metadata": {},
          "execution_count": 151
        },
        {
          "output_type": "display_data",
          "data": {
            "text/plain": [
              "<Figure size 640x480 with 1 Axes>"
            ],
            "image/png": "[encoded data removed]"
          },
          "metadata": {}
        }
      ]
    },
    {
      "cell_type": "code",
      "source": [
        "emb = C[Xtr]  #(32, 3, 2)\n",
        "# h = torch.tanh(emb.view(-1,6) @ W1 + b1) #(32, 100)\n",
        "h = torch.tanh(emb.view(-1,30) @ W1 + b1) #(32, 100)\n",
        "logits = h @ W2 +b2 # (32, 37)\n",
        "loss = F.cross_entropy(logits, Ytr)\n",
        "loss"
      ],
      "metadata": {
        "colab": {
          "base_uri": "https://localhost:8080/"
        },
        "id": "YLCg07wXU62w",
        "outputId": "7bab7d3d-1fb7-4074-9955-0588db5cd3cf"
      },
      "execution_count": 152,
      "outputs": [
        {
          "output_type": "execute_result",
          "data": {
            "text/plain": [
              "tensor(2.1080, grad_fn=<NllLossBackward0>)"
            ]
          },
          "metadata": {},
          "execution_count": 152
        }
      ]
    },
    {
      "cell_type": "code",
      "source": [
        "emb = C[Xdev]  #(32, 3, 2)\n",
        "# h = torch.tanh(emb.view(-1,6) @ W1 + b1) #(32, 100)\n",
        "h = torch.tanh(emb.view(-1,30) @ W1 + b1) #(32, 100)\n",
        "logits = h @ W2 +b2 # (32, 37)\n",
        "loss = F.cross_entropy(logits, Ydev)\n",
        "loss"
      ],
      "metadata": {
        "colab": {
          "base_uri": "https://localhost:8080/"
        },
        "id": "mPTH-jklUli4",
        "outputId": "8cfb4b75-9277-4104-b1b1-740408631233"
      },
      "execution_count": 153,
      "outputs": [
        {
          "output_type": "execute_result",
          "data": {
            "text/plain": [
              "tensor(2.1595, grad_fn=<NllLossBackward0>)"
            ]
          },
          "metadata": {},
          "execution_count": 153
        }
      ]
    },
    {
      "cell_type": "code",
      "source": [
        "# 일반적으로 train과 dev의 loss 차이가 거의 없고, dev가 약간 높을때(overfitting) 학습 멈추고, \n",
        "# test데이터 넣어서 1번만 돌리고 논문제출하는것임"
      ],
      "metadata": {
        "id": "vPlTFkFgUlN7"
      },
      "execution_count": null,
      "outputs": []
    },
    {
      "cell_type": "code",
      "source": [
        "plt.figure(figsize=(8,8))\n",
        "plt.scatter(C[:,0].data, C[:,1].data, s=200)\n",
        "for i in range(C.shape[0]):\n",
        "    plt.text(C[1,0].item(), C[i,1].item(), itos[i], ha=\"center\", va=\"center\", color=\"white\")\n",
        "plt.grid('minor')"
      ],
      "metadata": {
        "colab": {
          "base_uri": "https://localhost:8080/",
          "height": 676
        },
        "id": "VbHKAWpoUk5s",
        "outputId": "3e284c26-3ad4-47d9-bf46-27979777259a"
      },
      "execution_count": 154,
      "outputs": [
        {
          "output_type": "display_data",
          "data": {
            "text/plain": [
              "<Figure size 800x800 with 1 Axes>"
            ],
            "image/png": "[encoded data removed]"
          },
          "metadata": {}
        }
      ]
    },
    {
      "cell_type": "code",
      "source": [
        "#sample from the model\n",
        "g = torch.Generator().manual_seed(2147483647 + 10)\n",
        "\n",
        "for _ in range(20):\n",
        "\n",
        "    out = []\n",
        "    context=[0] * block_size # initialize with all ...\n",
        "    while True:\n",
        "        emb = C[torch.tensor([context])] # (1, block_size, d)\n",
        "        h = torch.tanh(emb.view(1, -1) @ W1 + b1)\n",
        "        logits = h @ W2 + b2\n",
        "        probs = F.softmax(logits, dim=1)\n",
        "        ix = torch.multinomial(probs, num_samples=1, generator=g).item()\n",
        "        context = context[1:] + [ix]\n",
        "        out.append(ix)\n",
        "        if ix == 0 :\n",
        "            break\n",
        "        \n",
        "    print(''.join(itos[i] for i in out))\n",
        "\n",
        "\n",
        "\n",
        "                                  "
      ],
      "metadata": {
        "colab": {
          "base_uri": "https://localhost:8080/"
        },
        "id": "29IuD6PTUklh",
        "outputId": "16892c76-146a-4eda-d1fa-e591681b6ad1"
      },
      "execution_count": 160,
      "outputs": [
        {
          "output_type": "stream",
          "name": "stdout",
          "text": [
            "mora.\n",
            "kayah.\n",
            "see.\n",
            "med.\n",
            "rylle.\n",
            "emmadiejd.\n",
            "leg.\n",
            "azeer.\n",
            "melin.\n",
            "shy.\n",
            "jen.\n",
            "eden.\n",
            "van.\n",
            "nar.\n",
            "kayzion.\n",
            "kamin.\n",
            "shabergiad.\n",
            "jess.\n",
            "jairenly.\n",
            "panthona.\n"
          ]
        }
      ]
    }
  ]
}