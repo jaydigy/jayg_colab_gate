{
  "nbformat": 4,
  "nbformat_minor": 0,
  "metadata": {
    "colab": {
      "provenance": [],
      "authorship_tag": "ABX9TyNBET+Kq6LyqnoVqpEaNwUS",
      "include_colab_link": true
    },
    "kernelspec": {
      "name": "python3",
      "display_name": "Python 3"
    },
    "language_info": {
      "name": "python"
    }
  },
  "cells": [
    {
      "cell_type": "markdown",
      "metadata": {
        "id": "view-in-github",
        "colab_type": "text"
      },
      "source": [
        "<a href=\"https://colab.research.google.com/github/jaydigy/jayg_colab_gate/blob/main/ak_makemore_pt5_by_jayg.ipynb\" target=\"_parent\"><img src=\"https://colab.research.google.com/assets/colab-badge.svg\" alt=\"Open In Colab\"/></a>"
      ]
    },
    {
      "cell_type": "code",
      "execution_count": 154,
      "metadata": {
        "id": "qb3yEm1EPimU"
      },
      "outputs": [],
      "source": [
        "import torch\n",
        "import torch.nn.functional as F\n",
        "import matplotlib.pyplot as plt # for making figures\n",
        "%matplotlib inline"
      ]
    },
    {
      "cell_type": "code",
      "source": [
        "!wget \"https://raw.githubusercontent.com/jaydigy/jayg_colab_gate/main/names.txt\""
      ],
      "metadata": {
        "colab": {
          "base_uri": "https://localhost:8080/"
        },
        "id": "7NFCkwoSCI31",
        "outputId": "46b879a1-d037-4b92-ba81-f0915facb74d"
      },
      "execution_count": 155,
      "outputs": [
        {
          "output_type": "stream",
          "name": "stdout",
          "text": [
            "--2023-05-25 03:22:03--  https://raw.githubusercontent.com/jaydigy/jayg_colab_gate/main/names.txt\n",
            "Resolving raw.githubusercontent.com (raw.githubusercontent.com)... 185.199.108.133, 185.199.109.133, 185.199.110.133, ...\n",
            "Connecting to raw.githubusercontent.com (raw.githubusercontent.com)|185.199.108.133|:443... connected.\n",
            "HTTP request sent, awaiting response... 200 OK\n",
            "Length: 228145 (223K) [text/plain]\n",
            "Saving to: ‘names.txt.4’\n",
            "\n",
            "\rnames.txt.4           0%[                    ]       0  --.-KB/s               \rnames.txt.4         100%[===================>] 222.80K  --.-KB/s    in 0.03s   \n",
            "\n",
            "2023-05-25 03:22:03 (8.05 MB/s) - ‘names.txt.4’ saved [228145/228145]\n",
            "\n"
          ]
        }
      ]
    },
    {
      "cell_type": "code",
      "source": [
        "# read in all the words\n",
        "words = open('names.txt', 'r').read().splitlines()\n",
        "print(len(words))\n",
        "print(max(len(w) for w in words))\n",
        "print(words[:8])\n",
        "\n",
        "     "
      ],
      "metadata": {
        "colab": {
          "base_uri": "https://localhost:8080/"
        },
        "id": "gBRGgevoCeK5",
        "outputId": "b7abef11-4935-43d0-96c2-57d1000b1792"
      },
      "execution_count": 156,
      "outputs": [
        {
          "output_type": "stream",
          "name": "stdout",
          "text": [
            "32033\n",
            "15\n",
            "['emma', 'olivia', 'ava', 'isabella', 'sophia', 'charlotte', 'mia', 'amelia']\n"
          ]
        }
      ]
    },
    {
      "cell_type": "code",
      "source": [
        "# build the vocabulary of characters and mappings to/from integers\n",
        "chars = sorted(list(set(''.join(words))))\n",
        "stoi = {s:i+1 for i,s in enumerate(chars)}\n",
        "stoi['.'] = 0\n",
        "itos = {i:s for s,i in stoi.items()}\n",
        "vocab_size = len(itos)\n",
        "print(itos)\n",
        "print(vocab_size)"
      ],
      "metadata": {
        "colab": {
          "base_uri": "https://localhost:8080/"
        },
        "id": "a9NaXrtpCYba",
        "outputId": "a9076c4b-df36-4d70-b9fc-dde93e6d1bc6"
      },
      "execution_count": 157,
      "outputs": [
        {
          "output_type": "stream",
          "name": "stdout",
          "text": [
            "{1: 'a', 2: 'b', 3: 'c', 4: 'd', 5: 'e', 6: 'f', 7: 'g', 8: 'h', 9: 'i', 10: 'j', 11: 'k', 12: 'l', 13: 'm', 14: 'n', 15: 'o', 16: 'p', 17: 'q', 18: 'r', 19: 's', 20: 't', 21: 'u', 22: 'v', 23: 'w', 24: 'x', 25: 'y', 26: 'z', 0: '.'}\n",
            "27\n"
          ]
        }
      ]
    },
    {
      "cell_type": "code",
      "source": [
        "# shuffle up the words\n",
        "import random\n",
        "random.seed(42)\n",
        "random.shuffle(words)"
      ],
      "metadata": {
        "id": "t5hQuSRjC6F_"
      },
      "execution_count": 158,
      "outputs": []
    },
    {
      "cell_type": "code",
      "source": [
        "#build the dataset\n",
        "block_size = 8 #context length : how many chracters do we take to predict the next one?\n",
        "\n",
        "def build_dataset(words):\n",
        "    X, Y = [], []\n",
        "\n",
        "    for w in words:\n",
        "        context = [0] * block_size\n",
        "        for ch in w + '.':\n",
        "            ix = stoi[ch]\n",
        "            X.append(context)\n",
        "            Y.append(ix)\n",
        "            context = context[1:] + [ix] #crop and append\n",
        "\n",
        "    X = torch.tensor(X)\n",
        "    Y = torch.tensor(Y)\n",
        "    print(X.shape, Y.shape)\n",
        "    return X, Y\n",
        "\n",
        "n1 = int(0.8*len(words))\n",
        "n2 = int(0.9*len(words))\n",
        "\n",
        "Xtr, Ytr = build_dataset(words[:n1])        #80%\n",
        "Xdev, Ydev = build_dataset(words[n1:n2])    #10%\n",
        "Xte, Yte = build_dataset(words[n2:])        #10%\n",
        "     "
      ],
      "metadata": {
        "colab": {
          "base_uri": "https://localhost:8080/"
        },
        "id": "Wk1HkVRiDJRi",
        "outputId": "cc4bf02d-914e-4728-ede8-27690b4c806e"
      },
      "execution_count": 159,
      "outputs": [
        {
          "output_type": "stream",
          "name": "stdout",
          "text": [
            "torch.Size([182625, 8]) torch.Size([182625])\n",
            "torch.Size([22655, 8]) torch.Size([22655])\n",
            "torch.Size([22866, 8]) torch.Size([22866])\n"
          ]
        }
      ]
    },
    {
      "cell_type": "code",
      "source": [
        "for x, y in zip(Xtr[:20], Ytr[:20]):\n",
        "    print(''.join(itos[ix.item()] for ix in x), '-->', itos[y.item()])"
      ],
      "metadata": {
        "colab": {
          "base_uri": "https://localhost:8080/"
        },
        "id": "jznpSz-cDgTV",
        "outputId": "0d9d9771-8993-47b5-e3f8-cd806e70611a"
      },
      "execution_count": 160,
      "outputs": [
        {
          "output_type": "stream",
          "name": "stdout",
          "text": [
            "........ --> y\n",
            ".......y --> u\n",
            "......yu --> h\n",
            ".....yuh --> e\n",
            "....yuhe --> n\n",
            "...yuhen --> g\n",
            "..yuheng --> .\n",
            "........ --> d\n",
            ".......d --> i\n",
            "......di --> o\n",
            ".....dio --> n\n",
            "....dion --> d\n",
            "...diond --> r\n",
            "..diondr --> e\n",
            ".diondre --> .\n",
            "........ --> x\n",
            ".......x --> a\n",
            "......xa --> v\n",
            ".....xav --> i\n",
            "....xavi --> e\n"
          ]
        }
      ]
    },
    {
      "cell_type": "code",
      "source": [
        "# near copy paste of the layers we have developed in Part 3\n",
        "#------------------------------------------------------------------------\n",
        "class Linear:\n",
        "\n",
        "    def __init__(self, fan_in, fan_out, bias=True):\n",
        "        self.weight = torch.randn((fan_in, fan_out)) / fan_in**0.5\n",
        "        self.bias = torch.zeros(fan_out) if bias else None\n",
        "\n",
        "    def __call__(self, x):\n",
        "        self.out = x @ self.weight\n",
        "        if self.bias is not None:\n",
        "            self.out += self.bias\n",
        "        return self.out\n",
        "\n",
        "    def parameters(self):\n",
        "        return [self.weight] +([] if self.bias is None else [self.bias])\n",
        "#-----------------------------------------------------------------------\n",
        "# -----------------------------------------------------------------------------------------------\n",
        "class BatchNorm1d:\n",
        "  \n",
        "    def __init__(self, dim, eps=1e-5, momentum=0.1):\n",
        "        self.eps = eps\n",
        "        self.momentum = momentum\n",
        "        self.training = True\n",
        "        # parameters (trained with backprop)\n",
        "        self.gamma = torch.ones(dim)\n",
        "        self.beta = torch.zeros(dim)\n",
        "        # buffers (trained with a running 'momentum update')\n",
        "        self.running_mean = torch.zeros(dim)\n",
        "        self.running_var = torch.ones(dim)\n",
        "\n",
        "    def __call__(self, x):\n",
        "        # calculate the forward pass\n",
        "        if self.training:\n",
        "            if x.ndim == 2:\n",
        "                dim = 0\n",
        "            elif x.ndim == 3:\n",
        "                dim = (0,1)\n",
        "            xmean = x.mean(dim, keepdim=True) # batch mean\n",
        "            xvar = x.var(dim, keepdim=True) # batch variance\n",
        "        else:\n",
        "            xmean = self.running_mean\n",
        "            xvar = self.running_var\n",
        "        xhat = (x - xmean) / torch.sqrt(xvar + self.eps) # normalize to unit variance\n",
        "        self.out = self.gamma * xhat + self.beta\n",
        "        # update the buffers\n",
        "        if self.training:\n",
        "            with torch.no_grad():\n",
        "                self.running_mean = (1 - self.momentum) * self.running_mean + self.momentum * xmean\n",
        "                self.running_var = (1 - self.momentum) * self.running_var + self.momentum * xvar\n",
        "        return self.out\n",
        "\n",
        "    def parameters(self):\n",
        "        return [self.gamma, self.beta]\n",
        "#-----------------------------------------------------------------------\n",
        "class Tanh:\n",
        "    def __call__(self, x):\n",
        "        self.out = torch.tanh(x)\n",
        "        return self.out\n",
        "    def parameters(self):\n",
        "        return []\n",
        "# -----------------------------------------------------------------------------------------------\n",
        "class Embedding:\n",
        "  \n",
        "    def __init__(self, num_embeddings, embedding_dim):\n",
        "        self.weight = torch.randn((num_embeddings, embedding_dim))\n",
        "    \n",
        "    def __call__(self, IX):\n",
        "        self.out = self.weight[IX]\n",
        "        return self.out\n",
        "  \n",
        "    def parameters(self):\n",
        "        return [self.weight]\n",
        "# -----------------------------------------------------------------------------------------------\n",
        "class FlattenConsecutive:\n",
        "  \n",
        "    def __init__(self, n):\n",
        "        self.n = n\n",
        "    \n",
        "    def __call__(self, x):\n",
        "        B, T, C = x.shape\n",
        "        x = x.view(B, T//self.n, C*self.n)\n",
        "        if x.shape[1] == 1:\n",
        "            x = x.squeeze(1)\n",
        "        self.out = x\n",
        "        return self.out\n",
        "  \n",
        "    def parameters(self):\n",
        "        return []\n",
        "\n",
        "class Sequential:\n",
        "  \n",
        "    def __init__(self, layers):\n",
        "        self.layers = layers\n",
        "  \n",
        "    def __call__(self, x):\n",
        "        for layer in self.layers:\n",
        "            x = layer(x)\n",
        "        self.out = x\n",
        "        return self.out\n",
        "  \n",
        "    def parameters(self):\n",
        "    # get parameters of all layers and stretch them out into one list\n",
        "        return [p for layer in self.layers for p in layer.parameters()]\n"
      ],
      "metadata": {
        "id": "3O14YYGSEIxu"
      },
      "execution_count": 161,
      "outputs": []
    },
    {
      "cell_type": "code",
      "source": [
        "torch.manual_seed(42)"
      ],
      "metadata": {
        "colab": {
          "base_uri": "https://localhost:8080/"
        },
        "id": "jLVyMuQJGLrI",
        "outputId": "70b16520-eb93-4957-fa4e-be88fc8202e9"
      },
      "execution_count": 162,
      "outputs": [
        {
          "output_type": "execute_result",
          "data": {
            "text/plain": [
              "<torch._C.Generator at 0x7fe96894ced0>"
            ]
          },
          "metadata": {},
          "execution_count": 162
        }
      ]
    },
    {
      "cell_type": "code",
      "source": [
        "n_embd = 24 # the dimensionality of the chracter embedding vectors\n",
        "n_hidden = 128 # the number of the neurons in the hidden layer of MLP\n",
        "\n",
        "# C = torch.randn((vocab_size, n_embd))\n",
        "model = Sequential([\n",
        "    Embedding(vocab_size, n_embd),\n",
        "    FlattenConsecutive(2), Linear(n_embd * 2, n_hidden, bias=False), BatchNorm1d(n_hidden), Tanh(), \n",
        "    FlattenConsecutive(2), Linear(n_hidden * 2, n_hidden, bias=False), BatchNorm1d(n_hidden), Tanh(), \n",
        "    FlattenConsecutive(2), Linear(n_hidden * 2, n_hidden, bias=False), BatchNorm1d(n_hidden), Tanh(),     \n",
        "    # Linear(n_embd * block_size, n_hidden, bias=False), BatchNorm1d(n_hidden), Tanh(),\n",
        "    Linear(           n_hidden, vocab_size),\n",
        "])\n",
        "# parameter init\n",
        "with torch.no_grad():\n",
        "    #last layer make less confident\n",
        "    # layers[-1].gamma *= 0.1\n",
        "    model.layers[-1].weight *= 0.1\n",
        "\n",
        "parameters = model.parameters()\n",
        "# parameters = [ p for layer in layers for p in layer.parameters()]\n",
        "# parameters = [C] + [ p for layer in layers for p in layer.parameters()]\n",
        "print(sum(p.nelement() for p in parameters)) # number of parameters in total\n",
        "for p in parameters :\n",
        "    p.requires_grad = True\n"
      ],
      "metadata": {
        "colab": {
          "base_uri": "https://localhost:8080/"
        },
        "id": "4CGapqsOGT85",
        "outputId": "9ec7b6f3-bfe7-4758-c920-07fa518ac973"
      },
      "execution_count": 165,
      "outputs": [
        {
          "output_type": "stream",
          "name": "stdout",
          "text": [
            "76579\n"
          ]
        }
      ]
    },
    {
      "cell_type": "code",
      "source": [
        "for layer in model.layers:\n",
        "    print(layer.__class__.__name__, ':', tuple(layer.out.shape))"
      ],
      "metadata": {
        "colab": {
          "base_uri": "https://localhost:8080/"
        },
        "id": "_vLioMsJr8ed",
        "outputId": "4b49df66-d147-4667-dfa3-cac1cc212f30"
      },
      "execution_count": 168,
      "outputs": [
        {
          "output_type": "stream",
          "name": "stdout",
          "text": [
            "Embedding : (32, 8, 24)\n",
            "FlattenConsecutive : (32, 4, 48)\n",
            "Linear : (32, 4, 128)\n",
            "BatchNorm1d : (32, 4, 128)\n",
            "Tanh : (32, 4, 128)\n",
            "FlattenConsecutive : (32, 2, 256)\n",
            "Linear : (32, 2, 128)\n",
            "BatchNorm1d : (32, 2, 128)\n",
            "Tanh : (32, 2, 128)\n",
            "FlattenConsecutive : (32, 256)\n",
            "Linear : (32, 128)\n",
            "BatchNorm1d : (32, 128)\n",
            "Tanh : (32, 128)\n",
            "Linear : (32, 27)\n"
          ]
        }
      ]
    },
    {
      "cell_type": "code",
      "source": [
        "ix = torch.randint(0, Xtr.shape[0], (4,)) # let's look at a batch of 4 examples\n",
        "Xb, Yb = Xtr[ix], Ytr[ix]\n",
        "logits = model(Xb)\n",
        "print(Xb.shape)\n",
        "Xb"
      ],
      "metadata": {
        "colab": {
          "base_uri": "https://localhost:8080/"
        },
        "id": "QeHbNEIFj1Rx",
        "outputId": "d4ffcd83-b1d3-4f67-f884-f76bef701646"
      },
      "execution_count": 170,
      "outputs": [
        {
          "output_type": "stream",
          "name": "stdout",
          "text": [
            "torch.Size([4, 8])\n"
          ]
        },
        {
          "output_type": "execute_result",
          "data": {
            "text/plain": [
              "tensor([[ 0,  0, 10, 15, 19,  9,  5, 12],\n",
              "        [ 0,  0,  0,  0,  0,  0,  0, 20],\n",
              "        [ 0, 18,  9,  4,  4,  8,  9, 13],\n",
              "        [ 0,  0,  0,  0,  0,  2, 18, 25]])"
            ]
          },
          "metadata": {},
          "execution_count": 170
        }
      ]
    },
    {
      "cell_type": "code",
      "source": [
        "# same optimization as last time\n",
        "\n",
        "max_steps = 200000\n",
        "batch_size = 32\n",
        "lossi = []\n",
        "\n",
        "for i in range(max_steps):\n",
        "\n",
        "    # minibatch construct\n",
        "    ix = torch.randint(0, Xtr.shape[0], (batch_size,))\n",
        "    Xb, Yb = Xtr[ix], Ytr[ix] # batch X, Y\n",
        "\n",
        "    # Forward Pass\n",
        "    # emb = C[Xb] # embed the characters into vectors\n",
        "    # x = emb.view(emb.shape[0], -1) # concatenate the vectors\n",
        "    # x =Xb\n",
        "    # for layer in layers : \n",
        "    #     x = layer(x)\n",
        "    logits = model(Xb)\n",
        "    loss = F.cross_entropy(logits, Yb) # loss function\n",
        "\n",
        "    # backward pass\n",
        "    for p in parameters:\n",
        "        p.grad = None\n",
        "    loss.backward()\n",
        "\n",
        "    # update simple SGD\n",
        "    lr = 0.1 if i < 150000 else 0.01 # step learning rate decay\n",
        "    for p in parameters :\n",
        "        p.data += -lr * p.grad\n",
        "\n",
        "    # track stats\n",
        "    if i % 10000 == 0 : # print every once in a while\n",
        "        print(f'{i:7d} / {max_steps:7d} : {loss.item():.4f}')\n",
        "    lossi.append(loss.log10().item())\n",
        "\n",
        "    #break\n",
        "\n",
        "    # with torch.no_grad():\n",
        "    #     ud.append([(lr*p.grad.std() / p.data.std()).log10().item() for p in parameters])\n",
        "\n",
        "    #if i >= 1000:\n",
        "    #    break # adter debug : wold take out obviously to run full optimization"
      ],
      "metadata": {
        "colab": {
          "base_uri": "https://localhost:8080/"
        },
        "id": "Rrm1utH9Hvsp",
        "outputId": "887a15ed-9916-4c63-feb4-0c0cc8d79a16"
      },
      "execution_count": 171,
      "outputs": [
        {
          "output_type": "stream",
          "name": "stdout",
          "text": [
            "      0 /  200000 : 3.2419\n",
            "  10000 /  200000 : 2.0300\n",
            "  20000 /  200000 : 2.0328\n",
            "  30000 /  200000 : 2.2841\n",
            "  40000 /  200000 : 2.4687\n",
            "  50000 /  200000 : 2.2215\n",
            "  60000 /  200000 : 1.6124\n",
            "  70000 /  200000 : 1.6834\n",
            "  80000 /  200000 : 1.6670\n",
            "  90000 /  200000 : 1.8828\n",
            " 100000 /  200000 : 2.2550\n",
            " 110000 /  200000 : 1.7745\n",
            " 120000 /  200000 : 1.8963\n",
            " 130000 /  200000 : 1.8466\n",
            " 140000 /  200000 : 1.7527\n",
            " 150000 /  200000 : 1.9305\n",
            " 160000 /  200000 : 1.7586\n",
            " 170000 /  200000 : 1.6499\n",
            " 180000 /  200000 : 2.0147\n",
            " 190000 /  200000 : 1.7293\n"
          ]
        }
      ]
    },
    {
      "cell_type": "code",
      "source": [
        "plt.plot(lossi)"
      ],
      "metadata": {
        "id": "7-_DvlHoJiNx",
        "colab": {
          "base_uri": "https://localhost:8080/",
          "height": 448
        },
        "outputId": "55e900d2-df87-4326-c6cd-4af9bc2b94cd"
      },
      "execution_count": 172,
      "outputs": [
        {
          "output_type": "execute_result",
          "data": {
            "text/plain": [
              "[<matplotlib.lines.Line2D at 0x7fe8c1224490>]"
            ]
          },
          "metadata": {},
          "execution_count": 172
        },
        {
          "output_type": "display_data",
          "data": {
            "text/plain": [
              "<Figure size 640x480 with 1 Axes>"
            ],
            "image/png": "[encoded data removed]"
          },
          "metadata": {}
        }
      ]
    },
    {
      "cell_type": "code",
      "source": [
        "plt.plot(torch.tensor(lossi).view(-1, 1000).mean(1))"
      ],
      "metadata": {
        "id": "BMTqHfGMNvkh",
        "colab": {
          "base_uri": "https://localhost:8080/",
          "height": 448
        },
        "outputId": "4e2dced7-0617-4d45-d002-508e649c6c9f"
      },
      "execution_count": 173,
      "outputs": [
        {
          "output_type": "execute_result",
          "data": {
            "text/plain": [
              "[<matplotlib.lines.Line2D at 0x7fe8b43c05b0>]"
            ]
          },
          "metadata": {},
          "execution_count": 173
        },
        {
          "output_type": "display_data",
          "data": {
            "text/plain": [
              "<Figure size 640x480 with 1 Axes>"
            ],
            "image/png": "[encoded data removed]"
          },
          "metadata": {}
        }
      ]
    },
    {
      "cell_type": "code",
      "source": [
        "# put layers into eval mode (needed for batchnorm especially)\n",
        "for layer in model.layers:\n",
        "  layer.training = False"
      ],
      "metadata": {
        "id": "c8qxXpEeLlNz"
      },
      "execution_count": 174,
      "outputs": []
    },
    {
      "cell_type": "code",
      "source": [
        "# evaluate the loss\n",
        "@torch.no_grad() # this decorator disables gradient tracking\n",
        "def split_loss(split):\n",
        "  x,y = {\n",
        "    'train': (Xtr, Ytr),\n",
        "    'val': (Xdev, Ydev),\n",
        "    'test': (Xte, Yte),\n",
        "  }[split]\n",
        "  logits = model(x)\n",
        "#   emb = C[x] # (N, block_size, n_embd)\n",
        "#   x = emb.view(emb.shape[0], -1) # concat into (N, block_size * n_embd)\n",
        "#   for layer in layers:\n",
        "#     x = layer(x)\n",
        "  loss = F.cross_entropy(logits, y)\n",
        "  print(split, loss.item())\n",
        "\n",
        "# # put layers into eval mode\n",
        "# for layer in layers:\n",
        "#   layer.training = False\n",
        "split_loss('train')\n",
        "split_loss('val')"
      ],
      "metadata": {
        "id": "uXqlO9cXMwKY",
        "colab": {
          "base_uri": "https://localhost:8080/"
        },
        "outputId": "45539aef-8eb2-4bf1-aaf9-db49d4d01702"
      },
      "execution_count": 175,
      "outputs": [
        {
          "output_type": "stream",
          "name": "stdout",
          "text": [
            "train 1.7652804851531982\n",
            "val 1.9878184795379639\n"
          ]
        }
      ]
    },
    {
      "cell_type": "markdown",
      "source": [
        "original (3 character context + 200 hidden neurons, 12K params): train 2.058, val 2.105\n",
        "context: 3 -> 8 (22K params): train 1.918, val 2.027\n",
        "flat -> hierarchical (22K params): train 1.941, val 2.029\n",
        "fix bug in batchnorm: train 1.912, val 2.022\n",
        "scale up the network: n_embd 24, n_hidden 128 (76K params): train 1.769, val 1.993 굵은 텍스트"
      ],
      "metadata": {
        "id": "_erdpenbjYDO"
      }
    },
    {
      "cell_type": "code",
      "source": [
        "# sample from the model\n",
        "g = torch.Generator().manual_seed(2147483647 + 10)\n",
        "\n",
        "for _ in range(20):\n",
        "    \n",
        "    out = []\n",
        "    context = [0] * block_size # initialize with all ...\n",
        "    while True:\n",
        "      # forward pass the neural net\n",
        "      logits = model(torch.tensor([context]))\n",
        "    #   emb = C[torch.tensor([context])] # (1,block_size,n_embd)\n",
        "    #   x = emb.view(emb.shape[0], -1) # concatenate the vectors\n",
        "    #   for layer in layers:\n",
        "    #     x = layer(x)\n",
        "    #   logits = x\n",
        "      probs = F.softmax(logits, dim=1)\n",
        "      # sample from the distribution\n",
        "      ix = torch.multinomial(probs, num_samples=1, generator=g).item()\n",
        "      # shift the context window and track the samples\n",
        "      context = context[1:] + [ix]\n",
        "      out.append(ix)\n",
        "      # if we sample the special '.' token, break\n",
        "      if ix == 0:\n",
        "        break\n",
        "    \n",
        "    print(''.join(itos[i] for i in out)) # decode and print the generated word"
      ],
      "metadata": {
        "id": "3Ewaiq_rNC9y",
        "colab": {
          "base_uri": "https://localhost:8080/"
        },
        "outputId": "29d05278-c65c-4ddf-da4f-44445aaa2e47"
      },
      "execution_count": 177,
      "outputs": [
        {
          "output_type": "stream",
          "name": "stdout",
          "text": [
            "morday.\n",
            "yazliee.\n",
            "madylynn.\n",
            "rethan.\n",
            "endra.\n",
            "grazeen.\n",
            "meliah.\n",
            "miloe.\n",
            "leighana.\n",
            "anarielle.\n",
            "malkea.\n",
            "nosalyn.\n",
            "giagrace.\n",
            "kendree.\n",
            "jerenten.\n",
            "fiustineda.\n",
            "jamyla.\n",
            "eliyana.\n",
            "mystou.\n",
            "mahil.\n"
          ]
        }
      ]
    }
  ]
}